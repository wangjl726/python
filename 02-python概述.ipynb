# 变量
    - 程序 = 数据结构+算法
    - 变量就是可以重复使用的一个量，或者叫一个代号
    - 变量命名的规则
        - 变量命名可以包含数字，大小写字母，下划线或者更多，但是我们不推荐除了前三种内容之外的符号
        - 数字不可以打头
            - 4man, 5for 是不可以的
            - man4, for5是可以的
        - 一般在python中，以下划线开头的内容具有特殊含义，不建议使用
            - 比如 _age, _name，理论可以，但强烈不推荐，包括但不限于一个下划线开头和两个连续下划线开头
        - 大小写不一样，俗称大小写敏感
            - ForMan 跟 forMan不是一个变量名称
        - 推荐：
            - 使用具有固定含义的英文单词或者缩写， srv=server skt=socket,一般以posix命名规则为主
            - 驼峰命名法
                - 名称以单词自动连接，且每个单词首字母大写
                    - 大驼峰，每个单词第一个字母均大写
                        - 在Python中给类命名使用此法
                        - MyFirstLove, IntOne
                    - 小驼峰，类似大驼峰，但第一个字母小写
                        - 在Python中一般给普通变量或者函数命名
                        - myFirstLove, intOne
                    - posix写法
                        - 多个单词用下划线链接
                        - 单词全部小写
                        - my_first_love, int_one
        - 保留字和关键字
            - 变量命名必须避开，不能跟关键字和保留字重复
            - class， def， break，for

# 查看关键字的方法
    import keyword #引入关键字模块
    # 打印出系统全部关键字
    print(keyword.kwlist)
    ['False', 'None', 'True', 'and', 'as', 'assert', 'break', 'class', 'continue', 'def', 'del', 'elif', 'else', 'except', 'finally', 'for', 'from', 'global', 'if', 'import', 'in', 'is', 'lambda', 'nonlocal', 'not', 'or', 'pass', 'raise', 'return', 'try', 'while', 'with', 'yield']
  
# 定义变量ａｇｅ，把１８放入变量ａｇｅ中
    age = 18
    print(age)
    print(18)

 # 给age1， age2， age3 放入同样一个内容或值
    age1 = age2 = age3 = 18
    print(age1)
    print(age2)
    print(age3)
    
 # 一行内给多个变量赋值
    age4, age5, age6 = 12, 21, 45
    print(age4)
    print(age5)
    print(age6)
      18
      18
      18
      18
      18
      12
      21
      45

## 变量类型
    - 严格意义上讲，python只有一个类型
    - 标准数据一共六种
        - 数字类型Number
        - 字符串类型str
        - 列表list
        - 元组tuple
        - 字典 Dictionar
        - 集合 set

## Number数字类型
    - 数字类型没有大小限制
    ### 整数
    - 没有小数部分，表示个数的数字
    - 自然数，0，负自然数
    - 整数分进制
        - 二进制
            - 计算机常用
            - 是计算机唯一能直接理解的数字
            - 表示为0b开头的0,1代码
            - 例如 0b01101, 0b10001
        - 八进制
            - 不常用
            - 以0o开头的包含0-7的数字
        - 十六进制
            - 缝16进1
            - 其实是每四位二进制表示一位十六进制数
            - 包含0-9， a-f
            - 数字上以0x开头表示
        - 十进制
            - 18， 89， 178

    ### 浮点数
    - 小数
    - 计算机里边表示浮点数可以有条件省略
    - 3.1415
    - 3.
    - 0.5
    - .5
    - 科学计数法
        - 定义跟数学定义
        - 写法是用e/E后面跟整数表示10的指数
        - 176.23 == 1.7634e2
        - 0.876 == 8.76e-1

  ### 复数complex
    - 定义同数学定义一致
    - 一个由实部和虚部构成的数字
    - 虚部用j/J表示
    - 5+3j
    - 3j
    - （3j）

  ### 布尔值
    - 表示真假的值
    - 只有两个值， True/False
    - 布尔值可以跟数字直接操作

  #布尔值操作
    age = 18 + True
    print(age)
    19

 ## 字符串
    - 用来表示一串文字信息
    - 如何表示
        - 单引号
        - 双引号
        - 三引号（三个单引号或者三个双引号）
            - 能够扩起多行信息
    - 单双引号交错使用
